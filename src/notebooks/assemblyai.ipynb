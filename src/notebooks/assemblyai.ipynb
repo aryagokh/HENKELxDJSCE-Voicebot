{
 "cells": [
  {
   "cell_type": "code",
   "execution_count": 5,
   "id": "12b32941",
   "metadata": {},
   "outputs": [
    {
     "data": {
      "text/plain": [
       "True"
      ]
     },
     "execution_count": 5,
     "metadata": {},
     "output_type": "execute_result"
    }
   ],
   "source": [
    "# Install the assemblyai package by executing the command \"pip install assemblyai\"\n",
    "\n",
    "import assemblyai as aai\n",
    "import os\n",
    "from dotenv import load_dotenv\n",
    "\n",
    "load_dotenv()"
   ]
  },
  {
   "cell_type": "code",
   "execution_count": 6,
   "id": "357c824a",
   "metadata": {},
   "outputs": [],
   "source": [
    "aai.settings.api_key = os.getenv(\"ASSEMBLYAI_API_KEY\")"
   ]
  },
  {
   "cell_type": "code",
   "execution_count": null,
   "id": "6a721eb0",
   "metadata": {},
   "outputs": [],
   "source": [
    "audio_file = \"../data/audios/harvard.wav\""
   ]
  },
  {
   "cell_type": "code",
   "execution_count": 8,
   "id": "1f29e8a0",
   "metadata": {},
   "outputs": [
    {
     "name": "stdout",
     "output_type": "stream",
     "text": [
      "The stale smell of old beer lingers. It takes heat to bring out the odor. A cold dip restores health and zest. A salt pickle tastes fine with ham. Tacos al pastor are my favorite. A zestful food is the hot cross bun.\n"
     ]
    }
   ],
   "source": [
    "config = aai.TranscriptionConfig(speech_model=aai.SpeechModel.best)\n",
    "\n",
    "transcript = aai.Transcriber(config=config).transcribe(audio_file)\n",
    "\n",
    "if transcript.status == \"error\":\n",
    "  raise RuntimeError(f\"Transcription failed: {transcript.error}\")\n",
    "\n",
    "print(transcript.text)"
   ]
  },
  {
   "cell_type": "code",
   "execution_count": null,
   "id": "9af5f5b6",
   "metadata": {},
   "outputs": [],
   "source": []
  }
 ],
 "metadata": {
  "kernelspec": {
   "display_name": "Python 3",
   "language": "python",
   "name": "python3"
  },
  "language_info": {
   "codemirror_mode": {
    "name": "ipython",
    "version": 3
   },
   "file_extension": ".py",
   "mimetype": "text/x-python",
   "name": "python",
   "nbconvert_exporter": "python",
   "pygments_lexer": "ipython3",
   "version": "3.10.18"
  }
 },
 "nbformat": 4,
 "nbformat_minor": 5
}
